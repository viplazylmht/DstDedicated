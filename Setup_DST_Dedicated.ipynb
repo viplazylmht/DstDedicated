{
  "nbformat": 4,
  "nbformat_minor": 0,
  "metadata": {
    "colab": {
      "name": "Setup_DST_Dedicated.ipynb",
      "provenance": [],
      "collapsed_sections": [],
      "mount_file_id": "1tJ7ohZl_0VnVkL-1Tkic-_Uk-jhK_pe4",
      "authorship_tag": "ABX9TyP8LyMp7DwrdjqhEhy3y+ec",
      "include_colab_link": true
    },
    "kernelspec": {
      "name": "python3",
      "display_name": "Python 3"
    },
    "language_info": {
      "name": "python"
    }
  },
  "cells": [
    {
      "cell_type": "markdown",
      "metadata": {
        "id": "view-in-github",
        "colab_type": "text"
      },
      "source": [
        "<a href=\"https://colab.research.google.com/github/viplazylmht/DstDedicated/blob/main/Setup_DST_Dedicated.ipynb\" target=\"_parent\"><img src=\"https://colab.research.google.com/assets/colab-badge.svg\" alt=\"Open In Colab\"/></a>"
      ]
    },
    {
      "cell_type": "markdown",
      "metadata": {
        "id": "fFWFLI0mbiJX"
      },
      "source": [
        "From here we can found a fast way to start a dedicated server from google colaboratory (free).  \n",
        "The maximum runtime of the server at here is about 12 hours (or less).  \n",
        "\n",
        "If you want to save states of the game, please download your cluster' folders normally on the left panel (Files)."
      ]
    },
    {
      "cell_type": "markdown",
      "metadata": {
        "id": "LWNCX4bpPGjR"
      },
      "source": [
        "You will read and run cell by cell to get more information and do some additional stuff (such as replace your server token, ...).\n",
        "\n",
        "In the furture, you totally customize all things, that will be change server cluster, change seeds, auto save all file to google drive to save time (mount GD and change $PR_DIR to exactly location u want), add mods,..."
      ]
    },
    {
      "cell_type": "markdown",
      "metadata": {
        "id": "eXFXqeiWdh9Z"
      },
      "source": [
        "# Original tutorial post (by klei 4rum)\n",
        "\n",
        "https://forums.kleientertainment.com/forums/topic/64441-dedicated-server-quick-setup-guide-linux/"
      ]
    },
    {
      "cell_type": "markdown",
      "metadata": {
        "id": "N_PNgeBhGaHD"
      },
      "source": [
        "Make sure this machine support x86 environment (32bit)"
      ]
    },
    {
      "cell_type": "code",
      "metadata": {
        "id": "duRKGCjNd06T"
      },
      "source": [
        "!sudo dpkg --add-architecture i386\n",
        "!sudo apt-get update\n",
        "\n",
        "!sudo apt-get install libstdc++6:i386 libgcc1:i386 libcurl4-gnutls-dev:i386"
      ],
      "execution_count": null,
      "outputs": []
    },
    {
      "cell_type": "markdown",
      "metadata": {
        "id": "o6e8Cr-dG3nx"
      },
      "source": [
        "## Connect to working dir (can be located on google drive)"
      ]
    },
    {
      "cell_type": "code",
      "metadata": {
        "id": "lchXfepCar1r",
        "colab": {
          "base_uri": "https://localhost:8080/"
        },
        "outputId": "66a71275-be8c-4c93-a618-25e45ae5123b"
      },
      "source": [
        "PR_DIR=\"/content/\"\n",
        "%cd $PR_DIR"
      ],
      "execution_count": 2,
      "outputs": [
        {
          "output_type": "stream",
          "text": [
            "/content\n"
          ],
          "name": "stdout"
        }
      ]
    },
    {
      "cell_type": "markdown",
      "metadata": {
        "id": "gudbmJ01ai6s"
      },
      "source": [
        "## install steamcmd"
      ]
    },
    {
      "cell_type": "code",
      "metadata": {
        "colab": {
          "base_uri": "https://localhost:8080/"
        },
        "id": "XZYHogjUaQTx",
        "outputId": "d3fbae1d-f21e-4068-92ad-eba02f743cbb"
      },
      "source": [
        "!mkdir -p steamcmd\n",
        "%cd steamcmd"
      ],
      "execution_count": 3,
      "outputs": [
        {
          "output_type": "stream",
          "text": [
            "/content/steamcmd\n"
          ],
          "name": "stdout"
        }
      ]
    },
    {
      "cell_type": "code",
      "metadata": {
        "colab": {
          "base_uri": "https://localhost:8080/"
        },
        "id": "wRdD8Xj1aoBT",
        "outputId": "5e4705b4-5c9c-4f3f-c395-4288c6a321e9"
      },
      "source": [
        "!wget \"https://steamcdn-a.akamaihd.net/client/installer/steamcmd_linux.tar.gz\"\n",
        "\n",
        "!tar -xvzf steamcmd_linux.tar.gz\n",
        "!rm steamcmd_linux.tar.gz\n",
        "\n",
        "!chmod -R 0755 *\n",
        "\n",
        "%cd $PR_DIR"
      ],
      "execution_count": 4,
      "outputs": [
        {
          "output_type": "stream",
          "text": [
            "--2021-06-29 00:42:55--  https://steamcdn-a.akamaihd.net/client/installer/steamcmd_linux.tar.gz\n",
            "Resolving steamcdn-a.akamaihd.net (steamcdn-a.akamaihd.net)... 104.71.143.215, 104.71.143.208\n",
            "Connecting to steamcdn-a.akamaihd.net (steamcdn-a.akamaihd.net)|104.71.143.215|:443... connected.\n",
            "HTTP request sent, awaiting response... 200 OK\n",
            "Length: 2428561 (2.3M) [application/octet-stream]\n",
            "Saving to: ‘steamcmd_linux.tar.gz’\n",
            "\n",
            "steamcmd_linux.tar. 100%[===================>]   2.32M  --.-KB/s    in 0.07s   \n",
            "\n",
            "2021-06-29 00:42:55 (31.8 MB/s) - ‘steamcmd_linux.tar.gz’ saved [2428561/2428561]\n",
            "\n",
            "steamcmd.sh\n",
            "linux32/steamcmd\n",
            "linux32/steamerrorreporter\n",
            "linux32/libstdc++.so.6\n",
            "linux32/crashhandler.so\n",
            "/content\n"
          ],
          "name": "stdout"
        }
      ]
    },
    {
      "cell_type": "markdown",
      "metadata": {
        "id": "g9Wfh_I9LRtb"
      },
      "source": [
        "## Mods"
      ]
    },
    {
      "cell_type": "markdown",
      "metadata": {
        "id": "u43Tz-bHdAlc"
      },
      "source": [
        "My mods file for my server is `https://drive.google.com/uc?id=1wEqvUR9W24amYqJbCnfm4KfZGEgKo9fG`, hence you can replace by your own."
      ]
    },
    {
      "cell_type": "code",
      "metadata": {
        "colab": {
          "base_uri": "https://localhost:8080/"
        },
        "id": "yklKZ-kTLRGO",
        "outputId": "bd439f3f-52f9-4fa6-af34-4de7b3ed36f0"
      },
      "source": [
        "%cd $PR_DIR\n",
        "!mkdir -p dontstarvetogether_dedicated_server\n",
        "%cd dontstarvetogether_dedicated_server/\n",
        "\n",
        "!gdown --id 1wEqvUR9W24amYqJbCnfm4KfZGEgKo9fG"
      ],
      "execution_count": 5,
      "outputs": [
        {
          "output_type": "stream",
          "text": [
            "/content\n",
            "/content/dontstarvetogether_dedicated_server\n",
            "Downloading...\n",
            "From: https://drive.google.com/uc?id=1wEqvUR9W24amYqJbCnfm4KfZGEgKo9fG\n",
            "To: /content/dontstarvetogether_dedicated_server/mods.zip\n",
            "297MB [00:03, 87.6MB/s]\n"
          ],
          "name": "stdout"
        }
      ]
    },
    {
      "cell_type": "markdown",
      "metadata": {
        "id": "zVs2I61Kd1QF"
      },
      "source": [
        "Extract mods file to mods folder"
      ]
    },
    {
      "cell_type": "code",
      "metadata": {
        "colab": {
          "base_uri": "https://localhost:8080/"
        },
        "id": "fldA31gCMAh_",
        "outputId": "63567b58-452e-4afc-bfdc-50b9460736ec"
      },
      "source": [
        "!unzip -q -o mods.zip\n",
        "!ls"
      ],
      "execution_count": 6,
      "outputs": [
        {
          "output_type": "stream",
          "text": [
            "mods  mods.zip\n"
          ],
          "name": "stdout"
        }
      ]
    },
    {
      "cell_type": "markdown",
      "metadata": {
        "id": "7d_v0YYSbCj3"
      },
      "source": [
        "## Klei and server"
      ]
    },
    {
      "cell_type": "code",
      "metadata": {
        "colab": {
          "base_uri": "https://localhost:8080/"
        },
        "id": "oT2ASfvAa250",
        "outputId": "64cf6ba5-0b1a-4d54-9672-fa6b82938934"
      },
      "source": [
        "%cd $PR_DIR \n",
        "!mkdir -p DoNotStarveTogether"
      ],
      "execution_count": 7,
      "outputs": [
        {
          "output_type": "stream",
          "text": [
            "/content\n"
          ],
          "name": "stdout"
        }
      ]
    },
    {
      "cell_type": "code",
      "metadata": {
        "colab": {
          "base_uri": "https://localhost:8080/"
        },
        "id": "6WnKuNJfmSX_",
        "outputId": "97483fa5-369c-4c90-c3f8-b03812d292e1"
      },
      "source": [
        "%cd $PR_DIR/DoNotStarveTogether"
      ],
      "execution_count": 8,
      "outputs": [
        {
          "output_type": "stream",
          "text": [
            "/content/DoNotStarveTogether\n"
          ],
          "name": "stdout"
        }
      ]
    },
    {
      "cell_type": "markdown",
      "metadata": {
        "id": "v0TXUA6SMozu"
      },
      "source": [
        "Download my own server. You can use this too becasue there is only a world seed (Start at Day1). This is a `shipwrecked extended` world create by [Tropical Experience | The Volcano Biome](https://steamcommunity.com/sharedfiles/filedetails/?id=1505270912) mod."
      ]
    },
    {
      "cell_type": "code",
      "metadata": {
        "colab": {
          "base_uri": "https://localhost:8080/"
        },
        "id": "pVU3RzfyMrXU",
        "outputId": "ed521f49-e3a0-489f-937d-7689ae75b4e6"
      },
      "source": [
        "%cd $PR_DIR/DoNotStarveTogether\n",
        "\n",
        "!wget -qO- https://drive.google.com/uc?id=1qElUrR3tPQwYGQrW_4LIMRFOb_IQbu9X > MyDediServer.zip\n",
        "\n",
        "!unzip -q -o MyDediServer.zip\n",
        "!rm MyDediServer.zip\n",
        "\n",
        "!ls"
      ],
      "execution_count": 11,
      "outputs": [
        {
          "output_type": "stream",
          "text": [
            "/content/DoNotStarveTogether\n",
            "MyDediServer\n"
          ],
          "name": "stdout"
        }
      ]
    },
    {
      "cell_type": "markdown",
      "metadata": {
        "id": "cUveLBXqedux"
      },
      "source": [
        "Please note that the name of dedicated server is `MyDediServer`, you need to rename again to make sure this match together."
      ]
    },
    {
      "cell_type": "markdown",
      "metadata": {
        "id": "W2F-EMbBfAJV"
      },
      "source": [
        "After that, please use your own `SECRET TOKEN` (can be gen from [Klei Server page](https://accounts.klei.com/account/game/servers?game=DontStarveTogether)) instead of my token, then replace your token here:"
      ]
    },
    {
      "cell_type": "code",
      "metadata": {
        "id": "PmEHTco3f-XF"
      },
      "source": [
        "YOUR_TOKEN_PLS = \"PLEASE REPLACE ME INSIDE THE QUOTE\"\n",
        "\n",
        "assert YOUR_TOKEN_PLS != \"PLEASE REPLACE ME INSIDE THE QUOTE\""
      ],
      "execution_count": 13,
      "outputs": []
    },
    {
      "cell_type": "markdown",
      "metadata": {
        "id": "xJO6yH8JgNpS"
      },
      "source": [
        "Make sure the previnous cell run complete, then followup:"
      ]
    },
    {
      "cell_type": "code",
      "metadata": {
        "colab": {
          "base_uri": "https://localhost:8080/"
        },
        "id": "vCqZ3WNMgMmi",
        "outputId": "1b3bcbf8-6e6d-4e6b-c336-01e4d9d4134b"
      },
      "source": [
        "with open('MyDediServer/cluster_token.txt', 'wt') as f:\n",
        "    f.write(YOUR_TOKEN_PLS)\n",
        "\n",
        "ur_saved_token = !cat MyDediServer/cluster_token.txt\n",
        "print(ur_saved_token[0])\n",
        "\n",
        "assert ur_saved_token[0] != \"PLEASE REPLACE ME INSIDE THE QUOTE\""
      ],
      "execution_count": 15,
      "outputs": [
        {
          "output_type": "stream",
          "text": [
            "PLEASE REPLACE ME INSIDE THE QUOTE\n"
          ],
          "name": "stdout"
        }
      ]
    },
    {
      "cell_type": "markdown",
      "metadata": {
        "id": "OS52YYkMeVWX"
      },
      "source": [
        "Copy server files to `.klei` folders."
      ]
    },
    {
      "cell_type": "code",
      "metadata": {
        "colab": {
          "base_uri": "https://localhost:8080/"
        },
        "id": "g22Nb3MUrEb-",
        "outputId": "62319032-c6ab-4b15-d659-821d2334a7d6"
      },
      "source": [
        "%cd ~\n",
        "\n",
        "!mkdir -p .klei\n",
        "!mkdir -p .klei/DoNotStarveTogether/\n",
        "\n",
        "!cp -r $PR_DIR/DoNotStarveTogether/* ~/.klei/DoNotStarveTogether\n",
        "\n",
        "!ls $PR_DIR/DoNotStarveTogether/"
      ],
      "execution_count": 16,
      "outputs": [
        {
          "output_type": "stream",
          "text": [
            "/root\n",
            "MyDediServer\n"
          ],
          "name": "stdout"
        }
      ]
    },
    {
      "cell_type": "markdown",
      "metadata": {
        "id": "qDDmMS_TKCi5"
      },
      "source": [
        "## RUN"
      ]
    },
    {
      "cell_type": "markdown",
      "metadata": {
        "id": "mu4mcc_ahvEd"
      },
      "source": [
        "download auto script"
      ]
    },
    {
      "cell_type": "code",
      "metadata": {
        "colab": {
          "base_uri": "https://localhost:8080/"
        },
        "id": "mF9Ib3h_bV7k",
        "outputId": "b62bbd59-b6fc-4cb9-d2bc-d76155145637"
      },
      "source": [
        "%cd $PR_DIR\n",
        "\n",
        "!git clone https://github.com/viplazylmht/DstDedicated.git\n",
        "\n",
        "!cp DstDedicated/run_dedicated_servers.sh ."
      ],
      "execution_count": 24,
      "outputs": [
        {
          "output_type": "stream",
          "text": [
            "/content\n",
            "Cloning into 'DstDedicated'...\n",
            "remote: Enumerating objects: 9, done.\u001b[K\n",
            "remote: Counting objects: 100% (9/9), done.\u001b[K\n",
            "remote: Compressing objects: 100% (8/8), done.\u001b[K\n",
            "remote: Total 9 (delta 1), reused 6 (delta 0), pack-reused 0\u001b[K\n",
            "Unpacking objects: 100% (9/9), done.\n"
          ],
          "name": "stdout"
        }
      ]
    },
    {
      "cell_type": "markdown",
      "metadata": {
        "id": "VPLQALLrhybS"
      },
      "source": [
        "Then just run this script, almost done.  \n",
        "\n",
        "Please note that we need to download DST game (abount 2.3GB) when the first time run, and when you factory reset runtime. "
      ]
    },
    {
      "cell_type": "code",
      "metadata": {
        "id": "dHo9_gwcdoOJ"
      },
      "source": [
        "%cd $PR_DIR\n",
        "!chmod u+x run_dedicated_servers.sh\n",
        "!./run_dedicated_servers.sh $PR_DIR MyDediServer"
      ],
      "execution_count": null,
      "outputs": []
    },
    {
      "cell_type": "code",
      "metadata": {
        "id": "96ZPEm-7q6-d"
      },
      "source": [
        "# LOG\n",
        "# Master: [00:00:26]: World generated on build 469426 with save version: 5.065, using seed: 1624866836\n",
        "# Caves:  [00:00:32]: World generated on build 469426 with save version: 5.065, using seed: 1624866835\t"
      ],
      "execution_count": null,
      "outputs": []
    },
    {
      "cell_type": "markdown",
      "metadata": {
        "id": "rSLOzs2QiVut"
      },
      "source": [
        "If you want to stop this dedicated server, just go to the toolbar, find `Runtime` option, and click `Interrupt execute`."
      ]
    },
    {
      "cell_type": "markdown",
      "metadata": {
        "id": "itHboqzxtZJ-"
      },
      "source": [
        "## Backup save game"
      ]
    },
    {
      "cell_type": "code",
      "metadata": {
        "colab": {
          "base_uri": "https://localhost:8080/"
        },
        "id": "aX47yRDvv_zW",
        "outputId": "c5e5a1f4-b487-4c05-c450-eb1ad885dc00"
      },
      "source": [
        "%cd ~/.klei/DoNotStarveTogether"
      ],
      "execution_count": 28,
      "outputs": [
        {
          "output_type": "stream",
          "text": [
            "/root/.klei/DoNotStarveTogether\n"
          ],
          "name": "stdout"
        }
      ]
    },
    {
      "cell_type": "code",
      "metadata": {
        "id": "PisgEgHfiwYm"
      },
      "source": [
        "!zip -r ServerBackup.zip MyDediServer\n",
		"!cp ServerBackup.zip $PR_DIR",
      ],
      "execution_count": null,
      "outputs": []
    },
    {
      "cell_type": "markdown",
      "metadata": {
        "id": "a2HxkaL-je8L"
      },
      "source": [
        "Goo, download your ServerBackup.zip, Done.."
      ]
    }
  ]
}