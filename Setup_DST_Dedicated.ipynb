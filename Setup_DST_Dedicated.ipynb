{
  "nbformat": 4,
  "nbformat_minor": 0,
  "metadata": {
    "colab": {
      "name": "Setup_DST_Dedicated.ipynb",
      "provenance": [],
      "collapsed_sections": [],
      "mount_file_id": "1tJ7ohZl_0VnVkL-1Tkic-_Uk-jhK_pe4",
      "authorship_tag": "ABX9TyNE1V/X8fwfDAU3MFirDAhC",
      "include_colab_link": true
    },
    "kernelspec": {
      "name": "python3",
      "display_name": "Python 3"
    },
    "language_info": {
      "name": "python"
    }
  },
  "cells": [
    {
      "cell_type": "markdown",
      "metadata": {
        "id": "view-in-github",
        "colab_type": "text"
      },
      "source": [
        "<a href=\"https://colab.research.google.com/github/viplazylmht/DstDedicated/blob/main/Setup_DST_Dedicated.ipynb\" target=\"_parent\"><img src=\"https://colab.research.google.com/assets/colab-badge.svg\" alt=\"Open In Colab\"/></a>"
      ]
    },
    {
      "cell_type": "markdown",
      "metadata": {
        "id": "fFWFLI0mbiJX"
      },
      "source": [
        "From here we can found a fast way to start a dedicated server from google colaboratory (free).  \n",
        "The maximum runtime of the server at here is about 12 hours (or less).  \n",
        "\n",
        "If you want to save states of the game, please download your cluster' folders normally on the left panel (Files)."
      ]
    },
    {
      "cell_type": "markdown",
      "metadata": {
        "id": "eXFXqeiWdh9Z"
      },
      "source": [
        "# Original tutorial post (by klei 4rum)\n",
        "\n",
        "https://forums.kleientertainment.com/forums/topic/64441-dedicated-server-quick-setup-guide-linux/"
      ]
    },
    {
      "cell_type": "markdown",
      "metadata": {
        "id": "N_PNgeBhGaHD"
      },
      "source": [
        "Make sure this machine support x86 environment (32bit)"
      ]
    },
    {
      "cell_type": "code",
      "metadata": {
        "id": "duRKGCjNd06T"
      },
      "source": [
        "!sudo dpkg --add-architecture i386\n",
        "!sudo apt-get update\n",
        "\n",
        "!sudo apt-get install libstdc++6:i386 libgcc1:i386 libcurl4-gnutls-dev:i386"
      ],
      "execution_count": null,
      "outputs": []
    },
    {
      "cell_type": "markdown",
      "metadata": {
        "id": "o6e8Cr-dG3nx"
      },
      "source": [
        "## Connect to working dir (can be located on google drive)"
      ]
    },
    {
      "cell_type": "code",
      "metadata": {
        "id": "lchXfepCar1r",
        "colab": {
          "base_uri": "https://localhost:8080/"
        },
        "outputId": "89a67f79-870f-4542-afb8-42d8dff55999"
      },
      "source": [
        "PR_DIR=\"/content/\"\n",
        "%cd $PR_DIR"
      ],
      "execution_count": 52,
      "outputs": [
        {
          "output_type": "stream",
          "text": [
            "/content\n"
          ],
          "name": "stdout"
        }
      ]
    },
    {
      "cell_type": "markdown",
      "metadata": {
        "id": "gudbmJ01ai6s"
      },
      "source": [
        "## install steamcmd"
      ]
    },
    {
      "cell_type": "code",
      "metadata": {
        "colab": {
          "base_uri": "https://localhost:8080/"
        },
        "id": "XZYHogjUaQTx",
        "outputId": "85f73ad5-5447-4e77-a18c-0a245d4c950a"
      },
      "source": [
        "!mkdir -p steamcmd\n",
        "%cd steamcmd"
      ],
      "execution_count": 53,
      "outputs": [
        {
          "output_type": "stream",
          "text": [
            "/content/steamcmd\n"
          ],
          "name": "stdout"
        }
      ]
    },
    {
      "cell_type": "code",
      "metadata": {
        "colab": {
          "base_uri": "https://localhost:8080/"
        },
        "id": "wRdD8Xj1aoBT",
        "outputId": "e3524ad1-84dc-4132-e51f-0e7d5119dfd9"
      },
      "source": [
        "!wget \"https://steamcdn-a.akamaihd.net/client/installer/steamcmd_linux.tar.gz\"\n",
        "\n",
        "!tar -xvzf steamcmd_linux.tar.gz\n",
        "!rm steamcmd_linux.tar.gz\n",
        "\n",
        "!chmod -R 0755 *\n",
        "\n",
        "%cd $PR_DIR"
      ],
      "execution_count": 54,
      "outputs": [
        {
          "output_type": "stream",
          "text": [
            "--2021-06-28 09:06:05--  https://steamcdn-a.akamaihd.net/client/installer/steamcmd_linux.tar.gz\n",
            "Resolving steamcdn-a.akamaihd.net (steamcdn-a.akamaihd.net)... 23.35.70.16, 23.35.70.67\n",
            "Connecting to steamcdn-a.akamaihd.net (steamcdn-a.akamaihd.net)|23.35.70.16|:443... connected.\n",
            "HTTP request sent, awaiting response... 200 OK\n",
            "Length: 2428561 (2.3M) [application/octet-stream]\n",
            "Saving to: ‘steamcmd_linux.tar.gz’\n",
            "\n",
            "steamcmd_linux.tar. 100%[===================>]   2.32M  --.-KB/s    in 0.07s   \n",
            "\n",
            "2021-06-28 09:06:05 (33.0 MB/s) - ‘steamcmd_linux.tar.gz’ saved [2428561/2428561]\n",
            "\n",
            "steamcmd.sh\n",
            "linux32/steamcmd\n",
            "linux32/steamerrorreporter\n",
            "linux32/libstdc++.so.6\n",
            "linux32/crashhandler.so\n",
            "/content\n"
          ],
          "name": "stdout"
        }
      ]
    },
    {
      "cell_type": "markdown",
      "metadata": {
        "id": "g9Wfh_I9LRtb"
      },
      "source": [
        "## Mods"
      ]
    },
    {
      "cell_type": "markdown",
      "metadata": {
        "id": "u43Tz-bHdAlc"
      },
      "source": [
        "My mods file for my server is `https://drive.google.com/uc?id=1wEqvUR9W24amYqJbCnfm4KfZGEgKo9fG`, hence you can replace by your own."
      ]
    },
    {
      "cell_type": "code",
      "metadata": {
        "colab": {
          "base_uri": "https://localhost:8080/"
        },
        "id": "yklKZ-kTLRGO",
        "outputId": "7878783f-4fd4-47f3-81fd-fe65c6ae8a58"
      },
      "source": [
        "%cd $PR_DIR\n",
        "!mkdir -p dontstarvetogether_dedicated_server\n",
        "%cd dontstarvetogether_dedicated_server/\n",
        "\n",
        "!gdown --id 1wEqvUR9W24amYqJbCnfm4KfZGEgKo9fG"
      ],
      "execution_count": 69,
      "outputs": [
        {
          "output_type": "stream",
          "text": [
            "/content\n",
            "/content/dontstarvetogether_dedicated_server\n",
            "Downloading...\n",
            "From: https://drive.google.com/uc?id=1wEqvUR9W24amYqJbCnfm4KfZGEgKo9fG\n",
            "To: /content/dontstarvetogether_dedicated_server/mods.zip\n",
            "297MB [00:03, 94.8MB/s]\n"
          ],
          "name": "stdout"
        }
      ]
    },
    {
      "cell_type": "markdown",
      "metadata": {
        "id": "zVs2I61Kd1QF"
      },
      "source": [
        "Extract mods file to mods folder"
      ]
    },
    {
      "cell_type": "code",
      "metadata": {
        "colab": {
          "base_uri": "https://localhost:8080/"
        },
        "id": "fldA31gCMAh_",
        "outputId": "289829d5-b798-4ecc-e686-1f214070ac11"
      },
      "source": [
        "!unzip -q -o mods.zip\n",
        "!ls"
      ],
      "execution_count": 70,
      "outputs": [
        {
          "output_type": "stream",
          "text": [
            "bin\t\t      data\t      linux64  mods.zip   steamclient.so\n",
            "cached_mod_manifests  dontstarve.xpm  mods     steamapps  version.txt\n"
          ],
          "name": "stdout"
        }
      ]
    },
    {
      "cell_type": "markdown",
      "metadata": {
        "id": "7d_v0YYSbCj3"
      },
      "source": [
        "## Klei and server"
      ]
    },
    {
      "cell_type": "code",
      "metadata": {
        "colab": {
          "base_uri": "https://localhost:8080/"
        },
        "id": "oT2ASfvAa250",
        "outputId": "9f7babad-280c-47aa-ac57-155ee53211c4"
      },
      "source": [
        "%cd $PR_DIR \n",
        "!mkdir -p DoNotStarveTogether"
      ],
      "execution_count": 57,
      "outputs": [
        {
          "output_type": "stream",
          "text": [
            "/content\n"
          ],
          "name": "stdout"
        }
      ]
    },
    {
      "cell_type": "code",
      "metadata": {
        "colab": {
          "base_uri": "https://localhost:8080/"
        },
        "id": "6WnKuNJfmSX_",
        "outputId": "98fceb9a-854d-4e6b-db88-4f72872d8dcc"
      },
      "source": [
        "%cd $PR_DIR/DoNotStarveTogether"
      ],
      "execution_count": 58,
      "outputs": [
        {
          "output_type": "stream",
          "text": [
            "/content/DoNotStarveTogether\n"
          ],
          "name": "stdout"
        }
      ]
    },
    {
      "cell_type": "markdown",
      "metadata": {
        "id": "v0TXUA6SMozu"
      },
      "source": [
        "Download my own server. You can use this too becasue there is only a world seed (Start at Day1). This is a `shipwrecked extended` world create by [Tropical Experience | The Volcano Biome](https://steamcommunity.com/sharedfiles/filedetails/?id=1505270912) mod."
      ]
    },
    {
      "cell_type": "code",
      "metadata": {
        "colab": {
          "base_uri": "https://localhost:8080/"
        },
        "id": "pVU3RzfyMrXU",
        "outputId": "fd2536e0-de80-486c-9e5f-075f34c93821"
      },
      "source": [
        "%cd $PR_DIR/DoNotStarveTogether\n",
        "\n",
        "!wget -q https://cdn.discordapp.com/attachments/817270986423664670/859004097730445372/MyDediServer.zip\n",
        "\n",
        "!unzip -q -o MyDediServer.zip\n",
        "!rm MyDediServer.zip\n",
        "\n",
        "!ls"
      ],
      "execution_count": 71,
      "outputs": [
        {
          "output_type": "stream",
          "text": [
            "/content/DoNotStarveTogether\n",
            "MyDediServer\n"
          ],
          "name": "stdout"
        }
      ]
    },
    {
      "cell_type": "markdown",
      "metadata": {
        "id": "cUveLBXqedux"
      },
      "source": [
        "Please note that the name of dedicated server is `MyDediServer`, you need to rename again to make sure this match together."
      ]
    },
    {
      "cell_type": "markdown",
      "metadata": {
        "id": "W2F-EMbBfAJV"
      },
      "source": [
        "After that, please use your own `SECRET TOKEN` (can be gen from [Klei Server page](https://accounts.klei.com/account/game/servers?game=DontStarveTogether)) instead of my token, then replace your token here:"
      ]
    },
    {
      "cell_type": "code",
      "metadata": {
        "id": "PmEHTco3f-XF"
      },
      "source": [
        "YOUR_TOKEN_PLS = \"PLEASE REPLACE ME INSIDE THE QUOTE\"\n",
        "\n",
        "assert YOUR_TOKEN_PLS != \"PLEASE REPLACE ME INSIDE THE QUOTE\""
      ],
      "execution_count": 60,
      "outputs": []
    },
    {
      "cell_type": "markdown",
      "metadata": {
        "id": "xJO6yH8JgNpS"
      },
      "source": [
        "Make sure the previnous cell run complete, then followup:"
      ]
    },
    {
      "cell_type": "code",
      "metadata": {
        "colab": {
          "base_uri": "https://localhost:8080/"
        },
        "id": "vCqZ3WNMgMmi",
        "outputId": "66636a75-ce03-45cb-83c1-99b1a8a45efd"
      },
      "source": [
        "with open('MyDediServer/cluster_token.txt', 'wt') as f:\n",
        "    f.write(YOUR_TOKEN_PLS)\n",
        "\n",
        "!cat MyDediServer/cluster_token.txt"
      ],
      "execution_count": 61,
      "outputs": [
        {
          "output_type": "stream",
          "text": [
            "pds-g^KU_1_Xnbk8D^aPVPDuOXAQTNkD51xJc1CX5ytIWVfegX6W8a4Sgnf1Q="
          ],
          "name": "stdout"
        }
      ]
    },
    {
      "cell_type": "markdown",
      "metadata": {
        "id": "OS52YYkMeVWX"
      },
      "source": [
        "Copy server files to `.klei` folders."
      ]
    },
    {
      "cell_type": "code",
      "metadata": {
        "colab": {
          "base_uri": "https://localhost:8080/"
        },
        "id": "g22Nb3MUrEb-",
        "outputId": "339735df-440f-40c1-cc52-88ebeff25d54"
      },
      "source": [
        "%cd ~\n",
        "\n",
        "!mkdir -p .klei\n",
        "!mkdir -p .klei/DoNotStarveTogether/\n",
        "\n",
        "!cp -r $PR_DIR/DoNotStarveTogether/* ~/.klei/DoNotStarveTogether\n",
        "\n",
        "!ls $PR_DIR/DoNotStarveTogether/"
      ],
      "execution_count": 72,
      "outputs": [
        {
          "output_type": "stream",
          "text": [
            "/root\n",
            "MyDediServer\n"
          ],
          "name": "stdout"
        }
      ]
    },
    {
      "cell_type": "markdown",
      "metadata": {
        "id": "qDDmMS_TKCi5"
      },
      "source": [
        "## RUN"
      ]
    },
    {
      "cell_type": "markdown",
      "metadata": {
        "id": "mu4mcc_ahvEd"
      },
      "source": [
        "Make auto script"
      ]
    },
    {
      "cell_type": "code",
      "metadata": {
        "colab": {
          "base_uri": "https://localhost:8080/"
        },
        "id": "mF9Ib3h_bV7k",
        "outputId": "d9ceb7c2-3607-4b3b-cc63-3e0d15ef28a2"
      },
      "source": [
        "%cd $PR_DIR\n",
        "run_bash = \"\"\"#!/bin/bash\n",
        "\n",
        "DST_DIR=/content\n",
        "\n",
        "steamcmd_dir=\"$DST_DIR/steamcmd\"\n",
        "install_dir=\"$DST_DIR/dontstarvetogether_dedicated_server\"\n",
        "cluster_name=\"MyDediServer\"\n",
        "dontstarve_dir=\"$DST_DIR/DoNotStarveTogether\"\n",
        "\n",
        "function fail()\n",
        "{\n",
        "\techo Error: \"$@\" >&2\n",
        "\texit 1\n",
        "}\n",
        "\n",
        "function check_for_file()\n",
        "{\n",
        "\tif [ ! -e \"$1\" ]; then\n",
        "\t\tfail \"Missing file: $1\"\n",
        "\tfi\n",
        "}\n",
        "\n",
        "cd \"$steamcmd_dir\" || fail \"Missing $steamcmd_dir directory!\"\n",
        "\n",
        "check_for_file \"steamcmd.sh\"\n",
        "check_for_file \"$dontstarve_dir/$cluster_name/cluster.ini\"\n",
        "check_for_file \"$dontstarve_dir/$cluster_name/cluster_token.txt\"\n",
        "check_for_file \"$dontstarve_dir/$cluster_name/Master/server.ini\"\n",
        "check_for_file \"$dontstarve_dir/$cluster_name/Caves/server.ini\"\n",
        "\n",
        "./steamcmd.sh +force_install_dir \"$install_dir\" +login anonymous +app_update 343050 validate +quit\n",
        "\n",
        "check_for_file \"$install_dir/bin\"\n",
        "\n",
        "cd \"$install_dir/bin\" || fail\n",
        "\n",
        "run_shared=(./dontstarve_dedicated_server_nullrenderer)\n",
        "run_shared+=(-console)\n",
        "run_shared+=(-cluster \"$cluster_name\")\n",
        "run_shared+=(-monitor_parent_process $$)\n",
        "\n",
        "\"${run_shared[@]}\" -shard Caves  | sed 's/^/Caves:  /' &\n",
        "\"${run_shared[@]}\" -shard Master | sed 's/^/Master: /'\n",
        "\n",
        "\"\"\"\n",
        "\n",
        "with open(\"run_dedicated_servers.sh\", 'wt') as f:\n",
        "    f.write(run_bash)"
      ],
      "execution_count": 63,
      "outputs": [
        {
          "output_type": "stream",
          "text": [
            "/content\n"
          ],
          "name": "stdout"
        }
      ]
    },
    {
      "cell_type": "markdown",
      "metadata": {
        "id": "VPLQALLrhybS"
      },
      "source": [
        "Then just run this script, almost done.  \n",
        "\n",
        "Please note that we need to download DST game (abount 2.3GB) when the first time run, and when you factory reset runtime. "
      ]
    },
    {
      "cell_type": "code",
      "metadata": {
        "id": "dHo9_gwcdoOJ"
      },
      "source": [
        "%cd $PR_DIR\n",
        "!chmod u+x run_dedicated_servers.sh\n",
        "!./run_dedicated_servers.sh"
      ],
      "execution_count": null,
      "outputs": []
    },
    {
      "cell_type": "code",
      "metadata": {
        "id": "96ZPEm-7q6-d"
      },
      "source": [
        "# Master: [00:00:26]: World generated on build 469426 with save version: 5.065, using seed: 1624866836\n",
        "# Caves:  [00:00:32]: World generated on build 469426 with save version: 5.065, using seed: 1624866835\t"
      ],
      "execution_count": 65,
      "outputs": []
    },
    {
      "cell_type": "markdown",
      "metadata": {
        "id": "rSLOzs2QiVut"
      },
      "source": [
        "If you want to stop this dedicated server, just go to the toolbar, find `Runtime` option, and click `Interrupt execute`."
      ]
    },
    {
      "cell_type": "markdown",
      "metadata": {
        "id": "itHboqzxtZJ-"
      },
      "source": [
        "## Backup save game"
      ]
    },
    {
      "cell_type": "code",
      "metadata": {
        "colab": {
          "base_uri": "https://localhost:8080/"
        },
        "id": "aX47yRDvv_zW",
        "outputId": "3a335733-91d3-4ed3-ff51-5de71b8bdbdb"
      },
      "source": [
        "%cd ~/.klei/DoNotStarveTogether"
      ],
      "execution_count": 74,
      "outputs": [
        {
          "output_type": "stream",
          "text": [
            "/root/.klei/DoNotStarveTogether\n"
          ],
          "name": "stdout"
        }
      ]
    },
    {
      "cell_type": "code",
      "metadata": {
        "id": "PisgEgHfiwYm"
      },
      "source": [
        "!zip -r ServerBackup.zip MyDediServer"
      ],
      "execution_count": null,
      "outputs": []
    },
    {
      "cell_type": "markdown",
      "metadata": {
        "id": "a2HxkaL-je8L"
      },
      "source": [
        "Goo, download your ServerBackup.zip, Done"
      ]
    }
  ]
}