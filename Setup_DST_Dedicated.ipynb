{
    "nbformat": 4,
    "nbformat_minor": 0,
    "metadata": {
        "colab": {
            "name": "Setup_DST_Dedicated.ipynb",
            "provenance": [],
            "collapsed_sections": []
        },
        "kernelspec": {
            "display_name": "Python 3",
            "name": "python3"
        },
        "language_info": {
            "name": "python"
        }
    },
    "cells": [
        {
            "cell_type": "markdown",
            "metadata": {},
            "source": [
                "From here we can found a fast way to start a dedicated server from google colaboratory (free).  \n",
                "The maximum runtime of the server at here is about 12 hours (or less).  \n",
                "\n",
                "If you want to save states of the game, please download your cluster' folders normally on the left panel (Files)."
            ]
        },
        {
            "cell_type": "markdown",
            "metadata": {},
            "source": [
                "You will read and run cell by cell to get more information and do some additional stuff (such as replace your server token, ...).\n",
                "\n",
                "In the furture, you totally can customize all things, that will be change server cluster, change seeds, auto save all file to google drive to save time (mount GD and change $PR_DIR to exactly location u want), add mods, ..."
            ]
        },
        {
            "cell_type": "markdown",
            "metadata": {},
            "source": [
                "This tutorial is seperated to three pharse: initial, setup and run. If you first times take part in, please run step by step, else run all except all cell inside **SETUP** part.   "
            ]
        },
        {
            "cell_type": "markdown",
            "metadata": {},
            "source": [
                "---\n",
                "\n",
                "**IMPORTANT**:\n",
                "You cant save ur modified code here, please save a copy to Drive before (or save a copy in Drive after).  "
            ]
        },
        {
            "cell_type": "markdown",
            "metadata": {},
            "source": [
                "# INITIAL"
            ]
        },
        {
            "cell_type": "markdown",
            "metadata": {},
            "source": [
                "## Original tutorial post (by klei 4rum)\n",
                "\n",
                "https://forums.kleientertainment.com/forums/topic/64441-dedicated-server-quick-setup-guide-linux/"
            ]
        },
        {
            "cell_type": "code",
            "metadata": {},
            "source": [
                "!curl ipinfo.io"
            ],
            "execution_count": null,
            "outputs": [
                {
                    "output_type": "stream",
                    "text": [
                        "{\n",
                        "  \"ip\": \"35.245.98.142\",\n",
                        "  \"hostname\": \"142.98.245.35.bc.googleusercontent.com\",\n",
                        "  \"city\": \"Washington\",\n",
                        "  \"region\": \"Washington, D.C.\",\n",
                        "  \"country\": \"US\",\n",
                        "  \"loc\": \"38.8951,-77.0364\",\n",
                        "  \"org\": \"AS15169 Google LLC\",\n",
                        "  \"postal\": \"20045\",\n",
                        "  \"timezone\": \"America/New_York\",\n",
                        "  \"readme\": \"https://ipinfo.io/missingauth\"\n",
                        "}"
                    ],
                    "name": "stdout"
                }
            ]
        },
        {
            "cell_type": "markdown",
            "metadata": {},
            "source": [
                "Deprecated: Make sure this machine support x86 environment (32bit)   \n",
                "With the update Waterlogged, the game support 64bit as well."
            ]
        },
        {
            "cell_type": "markdown",
            "metadata": {},
            "source": [
                "## Connect to working dir (can be located on google drive)"
            ]
        },
        {
            "cell_type": "markdown",
            "metadata": {},
            "source": [
                "If you use Google Drive, please mount GD before run above cell (can be found mount button on the left `Files` panel)"
            ]
        },
        {
            "cell_type": "markdown",
            "metadata": {},
            "source": [
                "`PR_DIR` is a variable that hold the path to Server files. If you want auto save, please use a path to ur drive `ex: /content/drive/MyDrive/DST_dedi`, else keep default: `/content/` "
            ]
        },
        {
            "cell_type": "code",
            "metadata": {},
            "source": [
                "#PR_DIR=\"/content/\"\n",
                "PR_DIR=\"/content/drive/MyDrive/DST_dedi\"\n",
                "INSTALL_TEMP_DIR=\"/content\"\n",
                "%cd $INSTALL_TEMP_DIR"
            ],
            "execution_count": null,
            "outputs": [
                {
                    "output_type": "stream",
                    "text": [
                        "/content\n"
                    ],
                    "name": "stdout"
                }
            ]
        },
        {
            "cell_type": "markdown",
            "metadata": {},
            "source": [
                "## install steamcmd"
            ]
        },
        {
            "cell_type": "code",
            "metadata": {},
            "source": [
                "!mkdir -p steamcmd\n",
                "%cd steamcmd"
            ],
            "execution_count": null,
            "outputs": [
                {
                    "output_type": "stream",
                    "text": [
                        "/content/steamcmd\n"
                    ],
                    "name": "stdout"
                }
            ]
        },
        {
            "cell_type": "code",
            "metadata": {},
            "source": [
                "!wget \"https://steamcdn-a.akamaihd.net/client/installer/steamcmd_linux.tar.gz\"\n",
                "\n",
                "!tar -xvzf steamcmd_linux.tar.gz\n",
                "!rm steamcmd_linux.tar.gz\n",
                "\n",
                "!chmod -R 0755 *\n",
                "\n",
                "%cd $INSTALL_TEMP_DIR"
            ],
            "execution_count": null,
            "outputs": [
                {
                    "output_type": "stream",
                    "text": [
                        "--2021-08-21 08:33:50--  https://steamcdn-a.akamaihd.net/client/installer/steamcmd_linux.tar.gz\n",
                        "Resolving steamcdn-a.akamaihd.net (steamcdn-a.akamaihd.net)... 23.222.5.87, 23.222.5.81\n",
                        "Connecting to steamcdn-a.akamaihd.net (steamcdn-a.akamaihd.net)|23.222.5.87|:443... connected.\n",
                        "HTTP request sent, awaiting response... 200 OK\n",
                        "Length: 2428561 (2.3M) [application/octet-stream]\n",
                        "Saving to: ‘steamcmd_linux.tar.gz’\n",
                        "\n",
                        "\rsteamcmd_linux.tar.   0%[                    ]       0  --.-KB/s               \rsteamcmd_linux.tar. 100%[===================>]   2.32M  --.-KB/s    in 0.02s   \n",
                        "\n",
                        "2021-08-21 08:33:50 (124 MB/s) - ‘steamcmd_linux.tar.gz’ saved [2428561/2428561]\n",
                        "\n",
                        "steamcmd.sh\n",
                        "linux32/steamcmd\n",
                        "linux32/steamerrorreporter\n",
                        "linux32/libstdc++.so.6\n",
                        "linux32/crashhandler.so\n",
                        "/content\n"
                    ],
                    "name": "stdout"
                }
            ]
        },
        {
            "cell_type": "markdown",
            "metadata": {},
            "source": [
                "## Mods"
            ]
        },
        {
            "cell_type": "markdown",
            "metadata": {},
            "source": [
                "Old version:  \n",
                "```\n",
                "My mods file for my server is `https://drive.google.com/uc?id=1wEqvUR9W24amYqJbCnfm4KfZGEgKo9fG`, hence you can replace by your own.\n",
                "```\n",
                "\n",
                "What's new in **new version**?  \n",
                "You only need to care about mod id, just give it to me.\n"
            ]
        },
        {
            "cell_type": "code",
            "metadata": {},
            "source": [
                "mod_id = \"\"\"\n",
                "\n",
                "2115943953  # Auto Stack Pro\n",
                "1530801499  # Fast Travel (GUI)\n",
                "379114180   # collection\n",
                "378160973   # Global Positions\n",
                "374550642   # Increased Stack size\n",
                "380423963   # Mineable Gems\n",
                "2229630615  # New Boat Shapes\n",
                "700236083   # Quick Actions\n",
                "666155465   # Show Me (Origin)\n",
                "1207269058  # Simple Health Bar DST\n",
                "1595631294  # Smart Minisign\n",
                "1271089343  # Your Skeleton Respawn\n",
                "1172839635  # Better Ice Box\n",
                "375850593   # Extra Equip Slots\n",
                "1505270912  # Tropical Experience | The Volcano Biome\n",
                "\n",
                "\n",
                "\"\"\"\n",
                "\n",
                "# TODO: ADD YOUR MODS NEXT TO THE ABOVE LIST"
            ],
            "execution_count": null,
            "outputs": []
        },
        {
            "cell_type": "code",
            "metadata": {},
            "source": [
                "import regex as re\n",
                "id = re.compile(r' *([0-9a-z]*).*')\n",
                "\n",
                "list_id = id.findall(mod_id)\n",
                "list_id = list(filter(lambda x: x.strip() != \"\", list_id))"
            ],
            "execution_count": null,
            "outputs": []
        },
        {
            "cell_type": "code",
            "metadata": {},
            "source": [
                "%cd $INSTALL_TEMP_DIR\n",
                "!mkdir -p dontstarvetogether_dedicated_server\n",
                "!mkdir -p dontstarvetogether_dedicated_server/mods\n",
                "%cd dontstarvetogether_dedicated_server/mods\n",
                "\n",
                "import requests\n",
                "with open('dedicated_server_mods_setup.lua', 'wt') as f:\n",
                "    for id in list_id:    \n",
                "        text = requests.get(f\"https://steamcommunity.com/sharedfiles/filedetails/?id={id}\").text\n",
                "\n",
                "        if \"https://steamcommunity.com/workshop/browse/?section=collections&\" in text:\n",
                "            f.write(f\"ServerModCollectionSetup(\\\"{id}\\\")\\n\")\n",
                "        else:\n",
                "            f.write(f\"ServerModSetup(\\\"{id}\\\")\\n\")"
            ],
            "execution_count": null,
            "outputs": [
                {
                    "output_type": "stream",
                    "text": [
                        "/content\n",
                        "/content/dontstarvetogether_dedicated_server/mods\n"
                    ],
                    "name": "stdout"
                }
            ]
        },
        {
            "cell_type": "markdown",
            "metadata": {},
            "source": [
                "# SETUP"
            ]
        },
        {
            "cell_type": "markdown",
            "metadata": {},
            "source": [
                "Keep in mind that this section should run only one time if you set `PR_DIR` to Gdrive, or you want rewrite all server files. "
            ]
        },
        {
            "cell_type": "markdown",
            "metadata": {},
            "source": [
                "## Klei Server"
            ]
        },
        {
            "cell_type": "code",
            "metadata": {},
            "source": [
                "%cd $PR_DIR \n",
                "!mkdir -p DoNotStarveTogether"
            ],
            "execution_count": null,
            "outputs": [
                {
                    "output_type": "stream",
                    "text": [
                        "/content/drive/MyDrive/DST_dedi\n"
                    ],
                    "name": "stdout"
                }
            ]
        },
        {
            "cell_type": "code",
            "metadata": {},
            "source": [
                "%cd $PR_DIR/DoNotStarveTogether"
            ],
            "execution_count": null,
            "outputs": [
                {
                    "output_type": "stream",
                    "text": [
                        "/content/drive/MyDrive/DST_dedi/DoNotStarveTogether\n"
                    ],
                    "name": "stdout"
                }
            ]
        },
        {
            "cell_type": "markdown",
            "metadata": {},
            "source": [
                "Download my own server. You can use this too.\n",
                "- The first one is only a world seed (Start at Day1). This is a `shipwrecked extended` world create by [Tropical Experience | The Volcano Biome](https://steamcommunity.com/sharedfiles/filedetails/?id=1505270912) mod.  \n",
                "  Link to download is: `https://cdn.discordapp.com/attachments/817270986423664670/866590005802696744/MyDediServer.zip` \n",
                " \n",
                "- The second one is a normal world (maybe world day 119) with little mod. I recommend this one because you can also enter the world and do a Regenerate world if you want.  \n",
                "  Link to download is: `https://cdn.discordapp.com/attachments/817270986423664670/866591023400747058/MyDediServer.zip`\n",
                "\n",
                "I use the second one."
            ]
        },
        {
            "cell_type": "code",
            "metadata": {},
            "source": [
                "%cd $PR_DIR/DoNotStarveTogether\n",
                "!rm -rf * \n",
                "!wget https://cdn.discordapp.com/attachments/817270986423664670/866591023400747058/MyDediServer.zip\n",
                "\n",
                "!unzip -q -o MyDediServer.zip\n",
                "!rm MyDediServer.zip\n",
                "\n",
                "!ls"
            ],
            "execution_count": null,
            "outputs": [
                {
                    "output_type": "stream",
                    "text": [
                        "/content/drive/MyDrive/DST_dedi/DoNotStarveTogether\n",
                        "--2021-08-21 08:13:44--  https://cdn.discordapp.com/attachments/817270986423664670/866591023400747058/MyDediServer.zip\n",
                        "Resolving cdn.discordapp.com (cdn.discordapp.com)... 162.159.130.233, 162.159.133.233, 162.159.135.233, ...\n",
                        "Connecting to cdn.discordapp.com (cdn.discordapp.com)|162.159.130.233|:443... connected.\n",
                        "HTTP request sent, awaiting response... 200 OK\n",
                        "Length: 6157034 (5.9M) [application/zip]\n",
                        "Saving to: ‘MyDediServer.zip’\n",
                        "\n",
                        "MyDediServer.zip    100%[===================>]   5.87M  --.-KB/s    in 0.1s    \n",
                        "\n",
                        "2021-08-21 08:13:44 (42.8 MB/s) - ‘MyDediServer.zip’ saved [6157034/6157034]\n",
                        "\n",
                        "MyDediServer\n"
                    ],
                    "name": "stdout"
                }
            ]
        },
        {
            "cell_type": "markdown",
            "metadata": {},
            "source": [
                "Please note that the name of dedicated server is `MyDediServer`, you need to rename again to make sure this match together."
            ]
        },
        {
            "cell_type": "markdown",
            "metadata": {},
            "source": [
                "Here is my demo secret token: ![demo token](https://cdn.discordapp.com/attachments/817270986423664670/866671332610801694/unknown.png)\n",
                "\n",
                "After that, please use your own `SECRET TOKEN` (can be gen from [Klei Server page](https://accounts.klei.com/account/game/servers?game=DontStarveTogether)) instead of default token, then replace your token here:\n",
                "\n"
            ]
        },
        {
            "cell_type": "code",
            "metadata": {},
            "source": [
                "YOUR_TOKEN_PLS = \"PLEASE REPLACE ME INSIDE THE QUOTE\"\n",
                "\n",
                "assert YOUR_TOKEN_PLS != \"PLEASE REPLACE ME INSIDE THE QUOTE\""
            ],
            "execution_count": null,
            "outputs": []
        },
        {
            "cell_type": "markdown",
            "metadata": {},
            "source": [
                "**IMPORTANT**: Using your own secret token let you become admin of server (have a star next to player icon and can run [remote command](https://dontstarve.fandom.com/wiki/Console/Don%27t_Starve_Together_Commands))."
            ]
        },
        {
            "cell_type": "markdown",
            "metadata": {},
            "source": [
                "Make sure the previnous cell run complete, then followup:"
            ]
        },
        {
            "cell_type": "code",
            "metadata": {},
            "source": [
                "with open('MyDediServer/cluster_token.txt', 'wt') as f:\n",
                "        f.write(YOUR_TOKEN_PLS)\n",
                "\n",
                "ur_saved_token = !cat MyDediServer/cluster_token.txt\n",
                "print(ur_saved_token[0])\n",
                "\n",
                "assert ur_saved_token[0] != \"PLEASE REPLACE ME INSIDE THE QUOTE\""
            ],
            "execution_count": null,
            "outputs": []
        },
        {
            "cell_type": "markdown",
            "metadata": {},
            "source": [
                "# RUN"
            ]
        },
        {
            "cell_type": "markdown",
            "metadata": {},
            "source": [
                "Copy server files to `.klei` folders."
            ]
        },
        {
            "cell_type": "code",
            "metadata": {},
            "source": [
                "%cd ~\n",
                "\n",
                "!mkdir -p .klei\n",
                "!mkdir -p .klei/DoNotStarveTogether/\n",
                "\n",
                "#!cp -r $PR_DIR/DoNotStarveTogether/* ~/.klei/DoNotStarveTogether\n",
                "!ln -sf $PR_DIR/DoNotStarveTogether/* ~/.klei/DoNotStarveTogether\n",
                "\n",
                "!ls $PR_DIR/DoNotStarveTogether/"
            ],
            "execution_count": null,
            "outputs": [
                {
                    "output_type": "stream",
                    "text": [
                        "/root\n",
                        "MyDediServer\n"
                    ],
                    "name": "stdout"
                }
            ]
        },
        {
            "cell_type": "markdown",
            "metadata": {},
            "source": [
                "download auto script"
            ]
        },
        {
            "cell_type": "code",
            "metadata": {},
            "source": [
                "%cd $INSTALL_TEMP_DIR\n",
                "\n",
                "!git clone https://github.com/viplazylmht/DstDedicated.git\n",
                "\n",
                "!cp DstDedicated/run_dedicated_servers.sh ."
            ],
            "execution_count": null,
            "outputs": [
                {
                    "output_type": "stream",
                    "text": [
                        "/content\n",
                        "Cloning into 'DstDedicated'...\n",
                        "remote: Enumerating objects: 56, done.\u001b[K\n",
                        "remote: Counting objects: 100% (56/56), done.\u001b[K\n",
                        "remote: Compressing objects: 100% (37/37), done.\u001b[K\n",
                        "remote: Total 56 (delta 24), reused 47 (delta 18), pack-reused 0\u001b[K\n",
                        "Unpacking objects: 100% (56/56), done.\n"
                    ],
                    "name": "stdout"
                }
            ]
        },
        {
            "cell_type": "markdown",
            "metadata": {},
            "source": [
                "Then just run this script, almost done.  \n",
                "\n",
                "Please note that we need to download DST game (abount 2.3GB) when the first time run, and when you factory reset runtime. "
            ]
        },
        {
            "cell_type": "code",
            "metadata": {},
            "source": [
                "%cd $INSTALL_TEMP_DIR\n",
                "!chmod u+x run_dedicated_servers.sh\n",
                "!./run_dedicated_servers.sh $PR_DIR MyDediServer $INSTALL_TEMP_DIR\n",
                "#!screen -S DSTServer -d -m ./run_dedicated_servers.sh $PR_DIR MyDediServer"
            ],
            "execution_count": null,
            "outputs": []
        },
        {
            "cell_type": "code",
            "metadata": {},
            "source": [
                "# LOG\n",
                "# Master: [00:00:26]: World generated on build 469426 with save version: 5.065, using seed: 1624866836\n",
                "# Caves:  [00:00:32]: World generated on build 469426 with save version: 5.065, using seed: 1624866835\t"
            ],
            "execution_count": null,
            "outputs": []
        },
        {
            "cell_type": "markdown",
            "metadata": {},
            "source": [
                "If you want to stop this dedicated server, just go to the toolbar, find `Runtime` option, and click `Interrupt execute`."
            ]
        },
        {
            "cell_type": "markdown",
            "metadata": {},
            "source": [
                "## Backup save game (IF NEEDED)"
            ]
        },
        {
            "cell_type": "markdown",
            "metadata": {},
            "source": [
                "**You need to backup ur server files unless you mount and use a PR_DIR inside ur drive.**"
            ]
        },
        {
            "cell_type": "code",
            "metadata": {},
            "source": [
                "%cd ~/.klei/DoNotStarveTogether"
            ],
            "execution_count": null,
            "outputs": [
                {
                    "output_type": "stream",
                    "text": [
                        "/root/.klei/DoNotStarveTogether\n"
                    ],
                    "name": "stdout"
                }
            ]
        },
        {
            "cell_type": "code",
            "metadata": {},
            "source": [
                "!zip -r ServerBackup.zip MyDediServer"
            ],
            "execution_count": null,
            "outputs": []
        },
        {
            "cell_type": "markdown",
            "metadata": {},
            "source": [
                "Goo, download your ServerBackup.zip, Done.  \n",
                "\n",
                "Yah I will auto download for you."
            ]
        },
        {
            "cell_type": "code",
            "metadata": {},
            "source": [
                "from google.colab import files\n",
                "files.download('ServerBackup.zip')"
            ],
            "execution_count": null,
            "outputs": [
                {
                    "output_type": "display_data",
                    "data": {
                        "application/javascript": [
                            "\n",
                            "    async function download(id, filename, size) {\n",
                            "      if (!google.colab.kernel.accessAllowed) {\n",
                            "        return;\n",
                            "      }\n",
                            "      const div = document.createElement('div');\n",
                            "      const label = document.createElement('label');\n",
                            "      label.textContent = `Downloading \"${filename}\": `;\n",
                            "      div.appendChild(label);\n",
                            "      const progress = document.createElement('progress');\n",
                            "      progress.max = size;\n",
                            "      div.appendChild(progress);\n",
                            "      document.body.appendChild(div);\n",
                            "\n",
                            "      const buffers = [];\n",
                            "      let downloaded = 0;\n",
                            "\n",
                            "      const channel = await google.colab.kernel.comms.open(id);\n",
                            "      // Send a message to notify the kernel that we're ready.\n",
                            "      channel.send({})\n",
                            "\n",
                            "      for await (const message of channel.messages) {\n",
                            "        // Send a message to notify the kernel that we're ready.\n",
                            "        channel.send({})\n",
                            "        if (message.buffers) {\n",
                            "          for (const buffer of message.buffers) {\n",
                            "            buffers.push(buffer);\n",
                            "            downloaded += buffer.byteLength;\n",
                            "            progress.value = downloaded;\n",
                            "          }\n",
                            "        }\n",
                            "      }\n",
                            "      const blob = new Blob(buffers, {type: 'application/binary'});\n",
                            "      const a = document.createElement('a');\n",
                            "      a.href = window.URL.createObjectURL(blob);\n",
                            "      a.download = filename;\n",
                            "      div.appendChild(a);\n",
                            "      a.click();\n",
                            "      div.remove();\n",
                            "    }\n",
                            "  "
                        ],
                        "text/plain": [
                            "<IPython.core.display.Javascript object>"
                        ]
                    },
                    "metadata": {
                        "tags": []
                    }
                },
                {
                    "output_type": "display_data",
                    "data": {
                        "application/javascript": [
                            "download(\"download_16996516-d792-48c4-92c8-9b582d38dd5e\", \"ServerBackup.zip\", 8938812)"
                        ],
                        "text/plain": [
                            "<IPython.core.display.Javascript object>"
                        ]
                    },
                    "metadata": {
                        "tags": []
                    }
                }
            ]
        },
        {
            "cell_type": "code",
            "metadata": {},
            "source": [
                ""
            ],
            "execution_count": null,
            "outputs": []
        }
    ]
}